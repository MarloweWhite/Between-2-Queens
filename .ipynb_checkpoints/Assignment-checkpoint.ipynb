{
 "cells": [
  {
   "cell_type": "code",
   "execution_count": 2,
   "metadata": {},
   "outputs": [
    {
     "name": "stdout",
     "output_type": "stream",
     "text": [
      "Hello, welcome to the game 2 red queens!, begin by choosing a card out of the 13 supplied to you\n",
      "['H4', 'H1', 'H7', 'C1', 'D2', 'S7', 'D4', 'D9', 'S10', 'C5', 'JH', 'D3', 'S1', 'C10', 'S2', 'S4', 'H6', 'S6', 'H5', 'KH', 'QS', 'H3', 'KD', 'C7', 'JS', 'C8', 'QC', 'KS', 'H9', 'D1', 'S3', 'JC', 'H8', 'JD', 'KC', 'D7', 'C4', 'D5', 'C2', 'D10', 'H10', 'S5', 'C3', 'D8', 'S9', 'H2', 'S8', 'C6', 'C9', 'D6']\n"
     ]
    }
   ],
   "source": [
    "import random\n",
    "from random import shuffle\n",
    "\n",
    "print('Hello, welcome to the game 2 red queens!, begin by choosing a card out of the 13 supplied to you')\n",
    "\n",
    "deck = ['S1', 'S2', 'S3', 'S4', 'S5','S6', 'S7', 'S8', 'S9', 'S10', 'JS', 'QS', 'KS',\n",
    "'H1', 'H2', 'H3', 'H4', 'H5','H6', 'H7', 'H8', 'H9', 'H10', 'JH', 'QH', 'KH',\n",
    "'D1', 'D2', 'D3', 'D4', 'D5','D6', 'D7', 'D8', 'D9', 'D10', 'JD', 'QD', 'KD',\n",
    "'C1', 'C2', 'C3', 'C4', 'C5','C6', 'C7', 'C8', 'C9', 'C10', 'JC', 'QC', 'KC']\n",
    "my_suits = ['S', 'H', 'D', 'C']\n",
    "my_class = [\"A\", \"K\", \"Q\", \"J\"]\n",
    "\n",
    "\n",
    "def magic_trick():\n",
    "    deck.remove('QH')\n",
    "    deck.remove('QD')\n",
    "    new_deck = [[i] for i in range(53)]\n",
    "    shuffle(deck)\n",
    "    return(deck)\n",
    "\n",
    "magic_trick()\n",
    "print(deck)\n"
   ]
  },
  {
   "cell_type": "code",
   "execution_count": 4,
   "metadata": {},
   "outputs": [
    {
     "name": "stdout",
     "output_type": "stream",
     "text": [
      "Choose a card from here!\n"
     ]
    },
    {
     "data": {
      "text/plain": [
       "['S7', 'H7', 'S10', 'S1', 'JH', 'C1', 'D9', 'H1', 'D2', 'C5', 'D3', 'H4', 'D4']"
      ]
     },
     "execution_count": 4,
     "metadata": {},
     "output_type": "execute_result"
    }
   ],
   "source": [
    "print('Choose a card from here!')\n",
    "card_set = deck[:13]\n",
    "def magic_trick_two():\n",
    "    random.shuffle(card_set)\n",
    "    shuffle(card_set)\n",
    "    return(card_set)\n",
    "    print(deck)\n",
    "\n",
    "magic_trick_two()"
   ]
  },
  {
   "cell_type": "code",
   "execution_count": null,
   "metadata": {
    "collapsed": true
   },
   "outputs": [],
   "source": []
  },
  {
   "cell_type": "code",
   "execution_count": 5,
   "metadata": {},
   "outputs": [
    {
     "name": "stdout",
     "output_type": "stream",
     "text": [
      "Please pick a card\n",
      "Card choice = D3\n",
      "Your card is D3\n",
      "['S7', 'H7', 'S10', 'S1', 'JH', 'C1', 'D9', 'H1', 'D2', 'C5', 'D3', 'H4', 'D4']\n"
     ]
    }
   ],
   "source": [
    "print(\"Please pick a card\")\n",
    "user_input = input(\"Card choice = \")\n",
    "\n",
    "def validation():\n",
    "    if user_input in card_set:\n",
    "        print(\"Your card is \" + user_input)\n",
    "        print(card_set)\n",
    "    else:\n",
    "        print(\"Please pick another card \")\n",
    "        return(input(\"Card choice = \"))\n",
    "        print(card_set)\n",
    "        \n",
    "        \n",
    "validation()"
   ]
  },
  {
   "cell_type": "code",
   "execution_count": 6,
   "metadata": {},
   "outputs": [
    {
     "name": "stdout",
     "output_type": "stream",
     "text": [
      "['H7', 'S1', 'H1', 'C1', 'H4', 'D9', 'S7', 'D4', 'JH', 'C5', 'D2', 'S10']\n"
     ]
    }
   ],
   "source": [
    "def magic_trick_three():\n",
    "    card_set.remove(user_input)\n",
    "    shuffle(card_set)\n",
    "    print(card_set)\n",
    "    \n",
    "magic_trick_three()"
   ]
  },
  {
   "cell_type": "code",
   "execution_count": 7,
   "metadata": {},
   "outputs": [
    {
     "name": "stdout",
     "output_type": "stream",
     "text": [
      "['QD', 'H7', 'S1', 'H1', 'C1', 'H4', 'D9', 'S7', 'D4', 'JH', 'C5', 'D2', 'S10', 'D3', 'QH']\n"
     ]
    }
   ],
   "source": [
    "def placing_back():\n",
    "    card_set.append(user_input)\n",
    "    card_set.append('QH')\n",
    "    card_set.insert(0, 'QD')\n",
    "#https://stackoverflow.com/questions/14895599/insert-an-element-at-specific-index-in-a-list-and-return-updated-list\n",
    "    print(card_set)\n",
    "\n",
    "placing_back()"
   ]
  },
  {
   "cell_type": "code",
   "execution_count": 8,
   "metadata": {},
   "outputs": [
    {
     "name": "stdout",
     "output_type": "stream",
     "text": [
      "Your card is between the two red Queens\n"
     ]
    }
   ],
   "source": [
    "print(\"Your card is between the two red Queens\")"
   ]
  },
  {
   "cell_type": "code",
   "execution_count": null,
   "metadata": {
    "collapsed": true
   },
   "outputs": [],
   "source": []
  },
  {
   "cell_type": "code",
   "execution_count": 9,
   "metadata": {
    "scrolled": true
   },
   "outputs": [
    {
     "name": "stdout",
     "output_type": "stream",
     "text": [
      "QD\n",
      "H7\n",
      "S1\n",
      "H1\n",
      "C1\n",
      "H4\n",
      "D9\n",
      "['S7', 'D4', 'JH', 'C5', 'D2', 'S10', 'D3', 'QH']\n"
     ]
    }
   ],
   "source": [
    "\n",
    "def main_event_one():\n",
    "    for items in card_set[0:7]:\n",
    "        print(items)\n",
    "        \n",
    "main_event_one()\n",
    "print(card_set[7:17])   "
   ]
  },
  {
   "cell_type": "code",
   "execution_count": 10,
   "metadata": {
    "collapsed": true
   },
   "outputs": [],
   "source": [
    "#x = my_function1(someargs)\n",
    "#my_function2(x)\n",
    "\n",
    "#or you can call one function within the other. \n",
    "#def my_function2():\n",
    "#       x = my_function1(someargs)"
   ]
  },
  {
   "cell_type": "code",
   "execution_count": 11,
   "metadata": {},
   "outputs": [
    {
     "name": "stdout",
     "output_type": "stream",
     "text": [
      "['S7', 'D4', 'JH', 'C5', 'D2', 'S10', 'D3', 'QH', 'D9', 'H4', 'C1', 'H1', 'S1', 'H7', 'QD']\n"
     ]
    }
   ],
   "source": [
    "card_set_two = card_set[7:17] + card_set[0:7][::-1]\n",
    "\n",
    "print(card_set_two)\n"
   ]
  },
  {
   "cell_type": "code",
   "execution_count": 12,
   "metadata": {},
   "outputs": [
    {
     "name": "stdout",
     "output_type": "stream",
     "text": [
      "S7\n",
      "D4\n",
      "JH\n",
      "['C5', 'D2', 'S10', 'D3', 'QH', 'D9', 'H4', 'C1', 'H1', 'S1', 'H7', 'QD']\n"
     ]
    }
   ],
   "source": [
    "card_set_two = card_set[7:17] + card_set[0:7][::-1]\n",
    "\n",
    "\n",
    "def main_event_two():\n",
    "    for items in card_set_two[0:3]:\n",
    "        print(items)\n",
    "        \n",
    "main_event_two()\n",
    "print(card_set_two[3:17])   "
   ]
  },
  {
   "cell_type": "code",
   "execution_count": 13,
   "metadata": {
    "collapsed": true
   },
   "outputs": [],
   "source": [
    "#You got up to being able to shuffle the first set 7 times and then putting it on top once which is ok\n",
    "#but we need to be able to do it another 4 times using the printed statement as the next variable for each one\n",
    "#card set 2 is showing promise but so could draw ideas from there\n",
    "#LETS GET THIS DONE TODAY AND ONTO DOCUMENTATION WHILE ITS ALL STILL FRESH!!!!!!"
   ]
  },
  {
   "cell_type": "code",
   "execution_count": 14,
   "metadata": {},
   "outputs": [
    {
     "name": "stdout",
     "output_type": "stream",
     "text": [
      "['C5', 'D2', 'S10', 'D3', 'QH', 'D9', 'H4', 'C1', 'H1', 'S1', 'H7', 'QD', 'JH', 'D4', 'S7']\n"
     ]
    }
   ],
   "source": [
    "card_set_three = card_set_two[3:17] + card_set_two[0:3][::-1]\n",
    "\n",
    "print(card_set_three)"
   ]
  },
  {
   "cell_type": "code",
   "execution_count": 15,
   "metadata": {},
   "outputs": [
    {
     "name": "stdout",
     "output_type": "stream",
     "text": [
      "C5\n",
      "D2\n",
      "S10\n",
      "['D3', 'QH', 'D9', 'H4', 'C1', 'H1', 'S1', 'H7', 'QD', 'JH', 'D4', 'S7']\n"
     ]
    }
   ],
   "source": [
    "card_set_three = card_set_two[3:17] + card_set_two[0:3][::-1]\n",
    "\n",
    "\n",
    "def main_event_three():\n",
    "    for items in card_set_three[0:3]:\n",
    "        print(items)\n",
    "        \n",
    "main_event_three()\n",
    "print(card_set_three[3:17])   "
   ]
  },
  {
   "cell_type": "code",
   "execution_count": 16,
   "metadata": {},
   "outputs": [
    {
     "name": "stdout",
     "output_type": "stream",
     "text": [
      "['D3', 'QH', 'D9', 'H4', 'C1', 'H1', 'S1', 'H7', 'QD', 'JH', 'D4', 'S7', 'S10', 'D2', 'C5']\n"
     ]
    }
   ],
   "source": [
    "card_set_four = card_set_three[3:17] + card_set_three[0:3][::-1]\n",
    "\n",
    "print(card_set_four)"
   ]
  },
  {
   "cell_type": "code",
   "execution_count": 17,
   "metadata": {},
   "outputs": [
    {
     "name": "stdout",
     "output_type": "stream",
     "text": [
      "D3\n",
      "QH\n",
      "D9\n",
      "['H4', 'C1', 'H1', 'S1', 'H7', 'QD', 'JH', 'D4', 'S7', 'S10', 'D2', 'C5']\n"
     ]
    }
   ],
   "source": [
    "card_set_four = card_set_three[3:17] + card_set_three[0:3][::-1]\n",
    "\n",
    "\n",
    "def main_event_four():\n",
    "    for items in card_set_four[0:3]:\n",
    "        print(items)\n",
    "        \n",
    "main_event_four()\n",
    "print(card_set_four[3:17])   "
   ]
  },
  {
   "cell_type": "code",
   "execution_count": 18,
   "metadata": {},
   "outputs": [
    {
     "name": "stdout",
     "output_type": "stream",
     "text": [
      "['H4', 'C1', 'H1', 'S1', 'H7', 'QD', 'JH', 'D4', 'S7', 'S10', 'D2', 'C5', 'D9', 'QH', 'D3']\n"
     ]
    }
   ],
   "source": [
    "card_set_five = card_set_four[3:17] + card_set_four[0:3][::-1]\n",
    "\n",
    "print(card_set_five)"
   ]
  },
  {
   "cell_type": "code",
   "execution_count": 19,
   "metadata": {},
   "outputs": [
    {
     "name": "stdout",
     "output_type": "stream",
     "text": [
      "H4\n",
      "C1\n",
      "H1\n",
      "S1\n",
      "H7\n",
      "QD\n",
      "['JH', 'D4', 'S7', 'S10', 'D2', 'C5', 'D9', 'QH', 'D3']\n"
     ]
    }
   ],
   "source": [
    "card_set_five = card_set_four[3:17] + card_set_four[0:3][::-1]\n",
    "\n",
    "def main_event_five():\n",
    "    for items in card_set_five[0:6]:\n",
    "        print(items)\n",
    "        \n",
    "main_event_five()\n",
    "print(card_set_five[6:17])  "
   ]
  },
  {
   "cell_type": "code",
   "execution_count": 20,
   "metadata": {},
   "outputs": [
    {
     "name": "stdout",
     "output_type": "stream",
     "text": [
      "['H4', 'C1', 'H1', 'S1', 'H7', 'QD', 'D3', 'QH', 'D9', 'C5', 'D2', 'S10', 'S7', 'D4', 'JH']\n"
     ]
    }
   ],
   "source": [
    "final_set = card_set_five[0:6] + card_set_five[6:17][::-1]\n",
    "\n",
    "print(final_set)"
   ]
  },
  {
   "cell_type": "code",
   "execution_count": 21,
   "metadata": {},
   "outputs": [
    {
     "name": "stdout",
     "output_type": "stream",
     "text": [
      "Is your card between the queens? yes\n",
      "Its all magical\n"
     ]
    }
   ],
   "source": [
    "user_input = input(\"Is your card between the queens? \")\n",
    "\n",
    "if user_input == \"yes\":\n",
    "    print(\"Its all magical\")\n",
    "elif user_input == \"no\":\n",
    "    print(\"oh ****\")\n",
    "else:\n",
    "    print(\"Only yes or no allowed\")    "
   ]
  },
  {
   "cell_type": "code",
   "execution_count": 22,
   "metadata": {},
   "outputs": [],
   "source": [
    "#user_input = input(\"Do you want to play again? \")\n",
    "\n",
    "#if user_input == \"yes\":\n",
    "#    print(\"Please restart the application\")\n",
    "#elif user_input == \"no\":\n",
    "#    print(\"Thank you for your time\")\n",
    "#else:\n",
    "#    print(\"Only yes or no allowed\")"
   ]
  },
  {
   "cell_type": "code",
   "execution_count": 23,
   "metadata": {},
   "outputs": [
    {
     "ename": "NameError",
     "evalue": "name 'Assignment' is not defined",
     "output_type": "error",
     "traceback": [
      "\u001b[1;31m---------------------------------------------------------------------------\u001b[0m",
      "\u001b[1;31mNameError\u001b[0m                                 Traceback (most recent call last)",
      "\u001b[1;32m<ipython-input-23-ff0608e2ca00>\u001b[0m in \u001b[0;36m<module>\u001b[1;34m()\u001b[0m\n\u001b[0;32m     13\u001b[0m         \u001b[1;32melse\u001b[0m\u001b[1;33m:\u001b[0m\u001b[1;33m\u001b[0m\u001b[0m\n\u001b[0;32m     14\u001b[0m             \u001b[0mprint\u001b[0m\u001b[1;33m(\u001b[0m\u001b[1;34m\"I'm sorry I could not recognize what you entered\"\u001b[0m\u001b[1;33m)\u001b[0m\u001b[1;33m\u001b[0m\u001b[0m\n\u001b[1;32m---> 15\u001b[1;33m \u001b[0mmain\u001b[0m\u001b[1;33m(\u001b[0m\u001b[1;33m)\u001b[0m\u001b[1;33m\u001b[0m\u001b[0m\n\u001b[0m",
      "\u001b[1;32m<ipython-input-23-ff0608e2ca00>\u001b[0m in \u001b[0;36mmain\u001b[1;34m()\u001b[0m\n\u001b[0;32m      1\u001b[0m \u001b[1;32mdef\u001b[0m \u001b[0mmain\u001b[0m\u001b[1;33m(\u001b[0m\u001b[1;33m)\u001b[0m\u001b[1;33m:\u001b[0m\u001b[1;33m\u001b[0m\u001b[0m\n\u001b[1;32m----> 2\u001b[1;33m     \u001b[0mgame\u001b[0m \u001b[1;33m=\u001b[0m \u001b[0mAssignment\u001b[0m\u001b[1;33m.\u001b[0m\u001b[0mpy\u001b[0m\u001b[1;33m\u001b[0m\u001b[0m\n\u001b[0m\u001b[0;32m      3\u001b[0m     \u001b[0mprint\u001b[0m\u001b[1;33m(\u001b[0m\u001b[0mgame\u001b[0m\u001b[1;33m)\u001b[0m\u001b[1;33m\u001b[0m\u001b[0m\n\u001b[0;32m      4\u001b[0m     \u001b[0mplay_again\u001b[0m\u001b[1;33m(\u001b[0m\u001b[1;33m)\u001b[0m\u001b[1;33m\u001b[0m\u001b[0m\n\u001b[0;32m      5\u001b[0m \u001b[1;33m\u001b[0m\u001b[0m\n",
      "\u001b[1;31mNameError\u001b[0m: name 'Assignment' is not defined"
     ]
    }
   ],
   "source": [
    "def main():\n",
    "    game = Assignment.py\n",
    "    print(game)\n",
    "    play_again()\n",
    "\n",
    "def play_again():\n",
    "    while True:\n",
    "        play_again = input(\"Would you like to play again?(yes or no) > \")\n",
    "        if play_again == \"yes\":\n",
    "            main()\n",
    "        if play_again == \"no\":\n",
    "            exit()\n",
    "        else:\n",
    "            print(\"I'm sorry I could not recognize what you entered\")\n",
    "main()"
   ]
  },
  {
   "cell_type": "code",
   "execution_count": null,
   "metadata": {
    "collapsed": true
   },
   "outputs": [],
   "source": []
  }
 ],
 "metadata": {
  "kernelspec": {
   "display_name": "Python 3",
   "language": "python",
   "name": "python3"
  },
  "language_info": {
   "codemirror_mode": {
    "name": "ipython",
    "version": 3
   },
   "file_extension": ".py",
   "mimetype": "text/x-python",
   "name": "python",
   "nbconvert_exporter": "python",
   "pygments_lexer": "ipython3",
   "version": "3.5.3"
  }
 },
 "nbformat": 4,
 "nbformat_minor": 2
}
